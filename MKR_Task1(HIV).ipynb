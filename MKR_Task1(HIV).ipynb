{
 "cells": [
  {
   "cell_type": "code",
   "execution_count": 1,
   "metadata": {},
   "outputs": [],
   "source": [
    "#dataset1 \n",
    "\n",
    "import pandas as pd\n",
    "import numpy as np\n",
    "import matplotlib.pyplot as plt\n",
    "%matplotlib inline "
   ]
  },
  {
   "cell_type": "code",
   "execution_count": 2,
   "metadata": {},
   "outputs": [],
   "source": [
    "df1=pd.read_excel('C:/Users/Suraj Gupta/Downloads/HIV_0000000026,SDGHIV (1).xlsx')"
   ]
  },
  {
   "cell_type": "code",
   "execution_count": 3,
   "metadata": {},
   "outputs": [
    {
     "data": {
      "text/html": [
       "<div>\n",
       "<style scoped>\n",
       "    .dataframe tbody tr th:only-of-type {\n",
       "        vertical-align: middle;\n",
       "    }\n",
       "\n",
       "    .dataframe tbody tr th {\n",
       "        vertical-align: top;\n",
       "    }\n",
       "\n",
       "    .dataframe thead th {\n",
       "        text-align: right;\n",
       "    }\n",
       "</style>\n",
       "<table border=\"1\" class=\"dataframe\">\n",
       "  <thead>\n",
       "    <tr style=\"text-align: right;\">\n",
       "      <th></th>\n",
       "      <th>WHO region</th>\n",
       "      <th>Year</th>\n",
       "      <th>Number of new HIV infections</th>\n",
       "      <th>New HIV infections (per 1000 uninfected population) Both Sexes</th>\n",
       "      <th>New HIV infections (per 1000 uninfected population) Male</th>\n",
       "      <th>New HIV infections (per 1000 uninfected population) Female</th>\n",
       "    </tr>\n",
       "  </thead>\n",
       "  <tbody>\n",
       "    <tr>\n",
       "      <th>0</th>\n",
       "      <td>Global</td>\n",
       "      <td>2019</td>\n",
       "      <td>1 700 000 [1 200 000–2 200 000]</td>\n",
       "      <td>0.22 [0.16–0.3]</td>\n",
       "      <td>0.23 [0.17–0.32]</td>\n",
       "      <td>0.21 [0.16-0.29]</td>\n",
       "    </tr>\n",
       "    <tr>\n",
       "      <th>1</th>\n",
       "      <td>Global</td>\n",
       "      <td>2018</td>\n",
       "      <td>1 700 000 [1 200 000–2 300 000]</td>\n",
       "      <td>0.23 [0.17–0.31]</td>\n",
       "      <td>0.24 [0.17–0.33]</td>\n",
       "      <td>0.22 [0.16-0.3]</td>\n",
       "    </tr>\n",
       "    <tr>\n",
       "      <th>2</th>\n",
       "      <td>Global</td>\n",
       "      <td>2017</td>\n",
       "      <td>1 800 000 [1 300 000–2 400 000]</td>\n",
       "      <td>0.24 [0.18–0.32]</td>\n",
       "      <td>0.24 [0.18–0.34]</td>\n",
       "      <td>0.23 [0.17-0.32]</td>\n",
       "    </tr>\n",
       "    <tr>\n",
       "      <th>3</th>\n",
       "      <td>Global</td>\n",
       "      <td>2016</td>\n",
       "      <td>1 800 000 [1 300 000–2 400 000]</td>\n",
       "      <td>0.25 [0.18–0.34]</td>\n",
       "      <td>0.25 [0.18–0.35]</td>\n",
       "      <td>0.24 [0.18-0.33]</td>\n",
       "    </tr>\n",
       "    <tr>\n",
       "      <th>4</th>\n",
       "      <td>Global</td>\n",
       "      <td>2015</td>\n",
       "      <td>1 900 000 [1 400 000–2 500 000]</td>\n",
       "      <td>0.26 [0.19–0.35]</td>\n",
       "      <td>0.26 [0.19–0.36]</td>\n",
       "      <td>0.26 [0.19-0.35]</td>\n",
       "    </tr>\n",
       "  </tbody>\n",
       "</table>\n",
       "</div>"
      ],
      "text/plain": [
       "  WHO region  Year     Number of new HIV infections  \\\n",
       "0     Global  2019  1 700 000 [1 200 000–2 200 000]   \n",
       "1     Global  2018  1 700 000 [1 200 000–2 300 000]   \n",
       "2     Global  2017  1 800 000 [1 300 000–2 400 000]   \n",
       "3     Global  2016  1 800 000 [1 300 000–2 400 000]   \n",
       "4     Global  2015  1 900 000 [1 400 000–2 500 000]   \n",
       "\n",
       "  New HIV infections (per 1000 uninfected population) Both Sexes  \\\n",
       "0                                    0.22 [0.16–0.3]               \n",
       "1                                   0.23 [0.17–0.31]               \n",
       "2                                   0.24 [0.18–0.32]               \n",
       "3                                   0.25 [0.18–0.34]               \n",
       "4                                   0.26 [0.19–0.35]               \n",
       "\n",
       "  New HIV infections (per 1000 uninfected population) Male  \\\n",
       "0                                   0.23 [0.17–0.32]         \n",
       "1                                   0.24 [0.17–0.33]         \n",
       "2                                   0.24 [0.18–0.34]         \n",
       "3                                   0.25 [0.18–0.35]         \n",
       "4                                   0.26 [0.19–0.36]         \n",
       "\n",
       "  New HIV infections (per 1000 uninfected population) Female  \n",
       "0                                   0.21 [0.16-0.29]          \n",
       "1                                    0.22 [0.16-0.3]          \n",
       "2                                   0.23 [0.17-0.32]          \n",
       "3                                   0.24 [0.18-0.33]          \n",
       "4                                   0.26 [0.19-0.35]          "
      ]
     },
     "execution_count": 3,
     "metadata": {},
     "output_type": "execute_result"
    }
   ],
   "source": [
    "df1.head()"
   ]
  },
  {
   "cell_type": "code",
   "execution_count": 4,
   "metadata": {},
   "outputs": [],
   "source": [
    "for i in df1.columns:\n",
    "    if i!='Year':\n",
    "        df1[i]=df1[i].str.replace(r'\\[.*\\]',\"\")"
   ]
  },
  {
   "cell_type": "code",
   "execution_count": 5,
   "metadata": {},
   "outputs": [
    {
     "data": {
      "text/html": [
       "<div>\n",
       "<style scoped>\n",
       "    .dataframe tbody tr th:only-of-type {\n",
       "        vertical-align: middle;\n",
       "    }\n",
       "\n",
       "    .dataframe tbody tr th {\n",
       "        vertical-align: top;\n",
       "    }\n",
       "\n",
       "    .dataframe thead th {\n",
       "        text-align: right;\n",
       "    }\n",
       "</style>\n",
       "<table border=\"1\" class=\"dataframe\">\n",
       "  <thead>\n",
       "    <tr style=\"text-align: right;\">\n",
       "      <th></th>\n",
       "      <th>WHO region</th>\n",
       "      <th>Year</th>\n",
       "      <th>Number of new HIV infections</th>\n",
       "      <th>New HIV infections (per 1000 uninfected population) Both Sexes</th>\n",
       "      <th>New HIV infections (per 1000 uninfected population) Male</th>\n",
       "      <th>New HIV infections (per 1000 uninfected population) Female</th>\n",
       "    </tr>\n",
       "  </thead>\n",
       "  <tbody>\n",
       "    <tr>\n",
       "      <th>0</th>\n",
       "      <td>Global</td>\n",
       "      <td>2019</td>\n",
       "      <td>1 700 000</td>\n",
       "      <td>0.22</td>\n",
       "      <td>0.23</td>\n",
       "      <td>0.21</td>\n",
       "    </tr>\n",
       "    <tr>\n",
       "      <th>1</th>\n",
       "      <td>Global</td>\n",
       "      <td>2018</td>\n",
       "      <td>1 700 000</td>\n",
       "      <td>0.23</td>\n",
       "      <td>0.24</td>\n",
       "      <td>0.22</td>\n",
       "    </tr>\n",
       "    <tr>\n",
       "      <th>2</th>\n",
       "      <td>Global</td>\n",
       "      <td>2017</td>\n",
       "      <td>1 800 000</td>\n",
       "      <td>0.24</td>\n",
       "      <td>0.24</td>\n",
       "      <td>0.23</td>\n",
       "    </tr>\n",
       "    <tr>\n",
       "      <th>3</th>\n",
       "      <td>Global</td>\n",
       "      <td>2016</td>\n",
       "      <td>1 800 000</td>\n",
       "      <td>0.25</td>\n",
       "      <td>0.25</td>\n",
       "      <td>0.24</td>\n",
       "    </tr>\n",
       "    <tr>\n",
       "      <th>4</th>\n",
       "      <td>Global</td>\n",
       "      <td>2015</td>\n",
       "      <td>1 900 000</td>\n",
       "      <td>0.26</td>\n",
       "      <td>0.26</td>\n",
       "      <td>0.26</td>\n",
       "    </tr>\n",
       "  </tbody>\n",
       "</table>\n",
       "</div>"
      ],
      "text/plain": [
       "  WHO region  Year Number of new HIV infections  \\\n",
       "0     Global  2019                   1 700 000    \n",
       "1     Global  2018                   1 700 000    \n",
       "2     Global  2017                   1 800 000    \n",
       "3     Global  2016                   1 800 000    \n",
       "4     Global  2015                   1 900 000    \n",
       "\n",
       "  New HIV infections (per 1000 uninfected population) Both Sexes  \\\n",
       "0                                              0.22                \n",
       "1                                              0.23                \n",
       "2                                              0.24                \n",
       "3                                              0.25                \n",
       "4                                              0.26                \n",
       "\n",
       "  New HIV infections (per 1000 uninfected population) Male  \\\n",
       "0                                              0.23          \n",
       "1                                              0.24          \n",
       "2                                              0.24          \n",
       "3                                              0.25          \n",
       "4                                              0.26          \n",
       "\n",
       "  New HIV infections (per 1000 uninfected population) Female  \n",
       "0                                              0.21           \n",
       "1                                              0.22           \n",
       "2                                              0.23           \n",
       "3                                              0.24           \n",
       "4                                              0.26           "
      ]
     },
     "execution_count": 5,
     "metadata": {},
     "output_type": "execute_result"
    }
   ],
   "source": [
    "df1.head()"
   ]
  },
  {
   "cell_type": "code",
   "execution_count": 6,
   "metadata": {},
   "outputs": [],
   "source": [
    "df1['Number of new HIV infections']=df1['Number of new HIV infections'].str.replace(\" \",\"\")"
   ]
  },
  {
   "cell_type": "code",
   "execution_count": 7,
   "metadata": {},
   "outputs": [
    {
     "data": {
      "text/html": [
       "<div>\n",
       "<style scoped>\n",
       "    .dataframe tbody tr th:only-of-type {\n",
       "        vertical-align: middle;\n",
       "    }\n",
       "\n",
       "    .dataframe tbody tr th {\n",
       "        vertical-align: top;\n",
       "    }\n",
       "\n",
       "    .dataframe thead th {\n",
       "        text-align: right;\n",
       "    }\n",
       "</style>\n",
       "<table border=\"1\" class=\"dataframe\">\n",
       "  <thead>\n",
       "    <tr style=\"text-align: right;\">\n",
       "      <th></th>\n",
       "      <th>WHO region</th>\n",
       "      <th>Year</th>\n",
       "      <th>Number of new HIV infections</th>\n",
       "      <th>New HIV infections (per 1000 uninfected population) Both Sexes</th>\n",
       "      <th>New HIV infections (per 1000 uninfected population) Male</th>\n",
       "      <th>New HIV infections (per 1000 uninfected population) Female</th>\n",
       "    </tr>\n",
       "  </thead>\n",
       "  <tbody>\n",
       "    <tr>\n",
       "      <th>0</th>\n",
       "      <td>Global</td>\n",
       "      <td>2019</td>\n",
       "      <td>1700000</td>\n",
       "      <td>0.22</td>\n",
       "      <td>0.23</td>\n",
       "      <td>0.21</td>\n",
       "    </tr>\n",
       "    <tr>\n",
       "      <th>1</th>\n",
       "      <td>Global</td>\n",
       "      <td>2018</td>\n",
       "      <td>1700000</td>\n",
       "      <td>0.23</td>\n",
       "      <td>0.24</td>\n",
       "      <td>0.22</td>\n",
       "    </tr>\n",
       "    <tr>\n",
       "      <th>2</th>\n",
       "      <td>Global</td>\n",
       "      <td>2017</td>\n",
       "      <td>1800000</td>\n",
       "      <td>0.24</td>\n",
       "      <td>0.24</td>\n",
       "      <td>0.23</td>\n",
       "    </tr>\n",
       "    <tr>\n",
       "      <th>3</th>\n",
       "      <td>Global</td>\n",
       "      <td>2016</td>\n",
       "      <td>1800000</td>\n",
       "      <td>0.25</td>\n",
       "      <td>0.25</td>\n",
       "      <td>0.24</td>\n",
       "    </tr>\n",
       "    <tr>\n",
       "      <th>4</th>\n",
       "      <td>Global</td>\n",
       "      <td>2015</td>\n",
       "      <td>1900000</td>\n",
       "      <td>0.26</td>\n",
       "      <td>0.26</td>\n",
       "      <td>0.26</td>\n",
       "    </tr>\n",
       "  </tbody>\n",
       "</table>\n",
       "</div>"
      ],
      "text/plain": [
       "  WHO region  Year Number of new HIV infections  \\\n",
       "0     Global  2019                      1700000   \n",
       "1     Global  2018                      1700000   \n",
       "2     Global  2017                      1800000   \n",
       "3     Global  2016                      1800000   \n",
       "4     Global  2015                      1900000   \n",
       "\n",
       "  New HIV infections (per 1000 uninfected population) Both Sexes  \\\n",
       "0                                              0.22                \n",
       "1                                              0.23                \n",
       "2                                              0.24                \n",
       "3                                              0.25                \n",
       "4                                              0.26                \n",
       "\n",
       "  New HIV infections (per 1000 uninfected population) Male  \\\n",
       "0                                              0.23          \n",
       "1                                              0.24          \n",
       "2                                              0.24          \n",
       "3                                              0.25          \n",
       "4                                              0.26          \n",
       "\n",
       "  New HIV infections (per 1000 uninfected population) Female  \n",
       "0                                              0.21           \n",
       "1                                              0.22           \n",
       "2                                              0.23           \n",
       "3                                              0.24           \n",
       "4                                              0.26           "
      ]
     },
     "execution_count": 7,
     "metadata": {},
     "output_type": "execute_result"
    }
   ],
   "source": [
    "df1.head()"
   ]
  },
  {
   "cell_type": "code",
   "execution_count": 8,
   "metadata": {},
   "outputs": [
    {
     "data": {
      "text/plain": [
       "WHO region                                                        object\n",
       "Year                                                               int64\n",
       "Number of new HIV infections                                      object\n",
       "New HIV infections (per 1000 uninfected population) Both Sexes    object\n",
       "New HIV infections (per 1000 uninfected population) Male          object\n",
       "New HIV infections (per 1000 uninfected population) Female        object\n",
       "dtype: object"
      ]
     },
     "execution_count": 8,
     "metadata": {},
     "output_type": "execute_result"
    }
   ],
   "source": [
    "df1.dtypes"
   ]
  },
  {
   "cell_type": "code",
   "execution_count": 9,
   "metadata": {},
   "outputs": [],
   "source": [
    "df1['New HIV infections (per 1000 uninfected population) Both Sexes']=df1['New HIV infections (per 1000 uninfected population) Both Sexes'].astype('float')\n",
    "df1['New HIV infections (per 1000 uninfected population) Male']=df1['New HIV infections (per 1000 uninfected population) Male'].astype('float')\n",
    "df1['New HIV infections (per 1000 uninfected population) Female']=df1['New HIV infections (per 1000 uninfected population) Female'].astype('float')\n",
    "df1['Number of new HIV infections']=df1['Number of new HIV infections'].astype('int')\n",
    "\n",
    "\n"
   ]
  },
  {
   "cell_type": "code",
   "execution_count": 10,
   "metadata": {},
   "outputs": [
    {
     "data": {
      "text/plain": [
       "WHO region                                                         object\n",
       "Year                                                                int64\n",
       "Number of new HIV infections                                        int32\n",
       "New HIV infections (per 1000 uninfected population) Both Sexes    float64\n",
       "New HIV infections (per 1000 uninfected population) Male          float64\n",
       "New HIV infections (per 1000 uninfected population) Female        float64\n",
       "dtype: object"
      ]
     },
     "execution_count": 10,
     "metadata": {},
     "output_type": "execute_result"
    }
   ],
   "source": [
    "df1.dtypes"
   ]
  },
  {
   "cell_type": "code",
   "execution_count": 11,
   "metadata": {},
   "outputs": [],
   "source": [
    "#dataset2\n",
    "\n",
    "df2=pd.read_excel('C:/Users/Suraj Gupta/Downloads/HIV_0000000006.xlsx')\n"
   ]
  },
  {
   "cell_type": "code",
   "execution_count": 12,
   "metadata": {},
   "outputs": [
    {
     "data": {
      "text/html": [
       "<div>\n",
       "<style scoped>\n",
       "    .dataframe tbody tr th:only-of-type {\n",
       "        vertical-align: middle;\n",
       "    }\n",
       "\n",
       "    .dataframe tbody tr th {\n",
       "        vertical-align: top;\n",
       "    }\n",
       "\n",
       "    .dataframe thead th {\n",
       "        text-align: right;\n",
       "    }\n",
       "</style>\n",
       "<table border=\"1\" class=\"dataframe\">\n",
       "  <thead>\n",
       "    <tr style=\"text-align: right;\">\n",
       "      <th></th>\n",
       "      <th>WHO region</th>\n",
       "      <th>Year</th>\n",
       "      <th>Number of deaths due to HIV/AIDS</th>\n",
       "    </tr>\n",
       "  </thead>\n",
       "  <tbody>\n",
       "    <tr>\n",
       "      <th>0</th>\n",
       "      <td>Global</td>\n",
       "      <td>2019</td>\n",
       "      <td>690 000 [500 000–970 000]</td>\n",
       "    </tr>\n",
       "    <tr>\n",
       "      <th>1</th>\n",
       "      <td>Global</td>\n",
       "      <td>2018</td>\n",
       "      <td>730 000 [530 000–1 000 000]</td>\n",
       "    </tr>\n",
       "    <tr>\n",
       "      <th>2</th>\n",
       "      <td>Global</td>\n",
       "      <td>2017</td>\n",
       "      <td>760 000 [550 000–1 100 000]</td>\n",
       "    </tr>\n",
       "    <tr>\n",
       "      <th>3</th>\n",
       "      <td>Global</td>\n",
       "      <td>2016</td>\n",
       "      <td>800 000 [580 000–1 100 000]</td>\n",
       "    </tr>\n",
       "    <tr>\n",
       "      <th>4</th>\n",
       "      <td>Global</td>\n",
       "      <td>2015</td>\n",
       "      <td>830 000 [610 000–1 200 000]</td>\n",
       "    </tr>\n",
       "  </tbody>\n",
       "</table>\n",
       "</div>"
      ],
      "text/plain": [
       "  WHO region  Year Number of deaths due to HIV/AIDS\n",
       "0     Global  2019        690 000 [500 000–970 000]\n",
       "1     Global  2018      730 000 [530 000–1 000 000]\n",
       "2     Global  2017      760 000 [550 000–1 100 000]\n",
       "3     Global  2016      800 000 [580 000–1 100 000]\n",
       "4     Global  2015      830 000 [610 000–1 200 000]"
      ]
     },
     "execution_count": 12,
     "metadata": {},
     "output_type": "execute_result"
    }
   ],
   "source": [
    "df2.head()"
   ]
  },
  {
   "cell_type": "code",
   "execution_count": 13,
   "metadata": {},
   "outputs": [],
   "source": [
    "df2['Number of deaths due to HIV/AIDS']=df2['Number of deaths due to HIV/AIDS'].str.replace(r'\\[.*\\]',\"\")\n"
   ]
  },
  {
   "cell_type": "code",
   "execution_count": 14,
   "metadata": {},
   "outputs": [
    {
     "data": {
      "text/html": [
       "<div>\n",
       "<style scoped>\n",
       "    .dataframe tbody tr th:only-of-type {\n",
       "        vertical-align: middle;\n",
       "    }\n",
       "\n",
       "    .dataframe tbody tr th {\n",
       "        vertical-align: top;\n",
       "    }\n",
       "\n",
       "    .dataframe thead th {\n",
       "        text-align: right;\n",
       "    }\n",
       "</style>\n",
       "<table border=\"1\" class=\"dataframe\">\n",
       "  <thead>\n",
       "    <tr style=\"text-align: right;\">\n",
       "      <th></th>\n",
       "      <th>WHO region</th>\n",
       "      <th>Year</th>\n",
       "      <th>Number of deaths due to HIV/AIDS</th>\n",
       "    </tr>\n",
       "  </thead>\n",
       "  <tbody>\n",
       "    <tr>\n",
       "      <th>0</th>\n",
       "      <td>Global</td>\n",
       "      <td>2019</td>\n",
       "      <td>690 000</td>\n",
       "    </tr>\n",
       "    <tr>\n",
       "      <th>1</th>\n",
       "      <td>Global</td>\n",
       "      <td>2018</td>\n",
       "      <td>730 000</td>\n",
       "    </tr>\n",
       "    <tr>\n",
       "      <th>2</th>\n",
       "      <td>Global</td>\n",
       "      <td>2017</td>\n",
       "      <td>760 000</td>\n",
       "    </tr>\n",
       "    <tr>\n",
       "      <th>3</th>\n",
       "      <td>Global</td>\n",
       "      <td>2016</td>\n",
       "      <td>800 000</td>\n",
       "    </tr>\n",
       "    <tr>\n",
       "      <th>4</th>\n",
       "      <td>Global</td>\n",
       "      <td>2015</td>\n",
       "      <td>830 000</td>\n",
       "    </tr>\n",
       "  </tbody>\n",
       "</table>\n",
       "</div>"
      ],
      "text/plain": [
       "  WHO region  Year Number of deaths due to HIV/AIDS\n",
       "0     Global  2019                         690 000 \n",
       "1     Global  2018                         730 000 \n",
       "2     Global  2017                         760 000 \n",
       "3     Global  2016                         800 000 \n",
       "4     Global  2015                         830 000 "
      ]
     },
     "execution_count": 14,
     "metadata": {},
     "output_type": "execute_result"
    }
   ],
   "source": [
    "df2.head()"
   ]
  },
  {
   "cell_type": "code",
   "execution_count": 15,
   "metadata": {},
   "outputs": [],
   "source": [
    "df2['Number of deaths due to HIV/AIDS']=df2['Number of deaths due to HIV/AIDS'].str.replace(\" \",\"\")\n"
   ]
  },
  {
   "cell_type": "code",
   "execution_count": 16,
   "metadata": {},
   "outputs": [
    {
     "data": {
      "text/html": [
       "<div>\n",
       "<style scoped>\n",
       "    .dataframe tbody tr th:only-of-type {\n",
       "        vertical-align: middle;\n",
       "    }\n",
       "\n",
       "    .dataframe tbody tr th {\n",
       "        vertical-align: top;\n",
       "    }\n",
       "\n",
       "    .dataframe thead th {\n",
       "        text-align: right;\n",
       "    }\n",
       "</style>\n",
       "<table border=\"1\" class=\"dataframe\">\n",
       "  <thead>\n",
       "    <tr style=\"text-align: right;\">\n",
       "      <th></th>\n",
       "      <th>WHO region</th>\n",
       "      <th>Year</th>\n",
       "      <th>Number of deaths due to HIV/AIDS</th>\n",
       "    </tr>\n",
       "  </thead>\n",
       "  <tbody>\n",
       "    <tr>\n",
       "      <th>0</th>\n",
       "      <td>Global</td>\n",
       "      <td>2019</td>\n",
       "      <td>690000</td>\n",
       "    </tr>\n",
       "    <tr>\n",
       "      <th>1</th>\n",
       "      <td>Global</td>\n",
       "      <td>2018</td>\n",
       "      <td>730000</td>\n",
       "    </tr>\n",
       "    <tr>\n",
       "      <th>2</th>\n",
       "      <td>Global</td>\n",
       "      <td>2017</td>\n",
       "      <td>760000</td>\n",
       "    </tr>\n",
       "    <tr>\n",
       "      <th>3</th>\n",
       "      <td>Global</td>\n",
       "      <td>2016</td>\n",
       "      <td>800000</td>\n",
       "    </tr>\n",
       "    <tr>\n",
       "      <th>4</th>\n",
       "      <td>Global</td>\n",
       "      <td>2015</td>\n",
       "      <td>830000</td>\n",
       "    </tr>\n",
       "  </tbody>\n",
       "</table>\n",
       "</div>"
      ],
      "text/plain": [
       "  WHO region  Year Number of deaths due to HIV/AIDS\n",
       "0     Global  2019                           690000\n",
       "1     Global  2018                           730000\n",
       "2     Global  2017                           760000\n",
       "3     Global  2016                           800000\n",
       "4     Global  2015                           830000"
      ]
     },
     "execution_count": 16,
     "metadata": {},
     "output_type": "execute_result"
    }
   ],
   "source": [
    "df2.head()"
   ]
  },
  {
   "cell_type": "code",
   "execution_count": 17,
   "metadata": {},
   "outputs": [
    {
     "data": {
      "text/plain": [
       "WHO region                          object\n",
       "Year                                 int64\n",
       "Number of deaths due to HIV/AIDS    object\n",
       "dtype: object"
      ]
     },
     "execution_count": 17,
     "metadata": {},
     "output_type": "execute_result"
    }
   ],
   "source": [
    "df2.dtypes"
   ]
  },
  {
   "cell_type": "code",
   "execution_count": 18,
   "metadata": {},
   "outputs": [],
   "source": [
    "df2['Number of deaths due to HIV/AIDS']=df2['Number of deaths due to HIV/AIDS'].astype('int')"
   ]
  },
  {
   "cell_type": "code",
   "execution_count": 19,
   "metadata": {},
   "outputs": [
    {
     "data": {
      "text/html": [
       "<div>\n",
       "<style scoped>\n",
       "    .dataframe tbody tr th:only-of-type {\n",
       "        vertical-align: middle;\n",
       "    }\n",
       "\n",
       "    .dataframe tbody tr th {\n",
       "        vertical-align: top;\n",
       "    }\n",
       "\n",
       "    .dataframe thead th {\n",
       "        text-align: right;\n",
       "    }\n",
       "</style>\n",
       "<table border=\"1\" class=\"dataframe\">\n",
       "  <thead>\n",
       "    <tr style=\"text-align: right;\">\n",
       "      <th></th>\n",
       "      <th>WHO region</th>\n",
       "      <th>Year</th>\n",
       "      <th>Number of deaths due to HIV/AIDS</th>\n",
       "    </tr>\n",
       "  </thead>\n",
       "  <tbody>\n",
       "    <tr>\n",
       "      <th>0</th>\n",
       "      <td>Global</td>\n",
       "      <td>2019</td>\n",
       "      <td>690000</td>\n",
       "    </tr>\n",
       "    <tr>\n",
       "      <th>1</th>\n",
       "      <td>Global</td>\n",
       "      <td>2018</td>\n",
       "      <td>730000</td>\n",
       "    </tr>\n",
       "    <tr>\n",
       "      <th>2</th>\n",
       "      <td>Global</td>\n",
       "      <td>2017</td>\n",
       "      <td>760000</td>\n",
       "    </tr>\n",
       "    <tr>\n",
       "      <th>3</th>\n",
       "      <td>Global</td>\n",
       "      <td>2016</td>\n",
       "      <td>800000</td>\n",
       "    </tr>\n",
       "    <tr>\n",
       "      <th>4</th>\n",
       "      <td>Global</td>\n",
       "      <td>2015</td>\n",
       "      <td>830000</td>\n",
       "    </tr>\n",
       "  </tbody>\n",
       "</table>\n",
       "</div>"
      ],
      "text/plain": [
       "  WHO region  Year  Number of deaths due to HIV/AIDS\n",
       "0     Global  2019                            690000\n",
       "1     Global  2018                            730000\n",
       "2     Global  2017                            760000\n",
       "3     Global  2016                            800000\n",
       "4     Global  2015                            830000"
      ]
     },
     "execution_count": 19,
     "metadata": {},
     "output_type": "execute_result"
    }
   ],
   "source": [
    "df2.head()"
   ]
  },
  {
   "cell_type": "code",
   "execution_count": 20,
   "metadata": {},
   "outputs": [
    {
     "data": {
      "text/plain": [
       "WHO region                          object\n",
       "Year                                 int64\n",
       "Number of deaths due to HIV/AIDS     int32\n",
       "dtype: object"
      ]
     },
     "execution_count": 20,
     "metadata": {},
     "output_type": "execute_result"
    }
   ],
   "source": [
    "df2.dtypes"
   ]
  },
  {
   "cell_type": "code",
   "execution_count": 21,
   "metadata": {},
   "outputs": [],
   "source": [
    "#dataset 3\n",
    "\n",
    "df3=pd.read_excel('C:/Users/Suraj Gupta/Downloads/HIV_0000000001 (2).xlsx')"
   ]
  },
  {
   "cell_type": "code",
   "execution_count": 22,
   "metadata": {},
   "outputs": [
    {
     "data": {
      "text/html": [
       "<div>\n",
       "<style scoped>\n",
       "    .dataframe tbody tr th:only-of-type {\n",
       "        vertical-align: middle;\n",
       "    }\n",
       "\n",
       "    .dataframe tbody tr th {\n",
       "        vertical-align: top;\n",
       "    }\n",
       "\n",
       "    .dataframe thead th {\n",
       "        text-align: right;\n",
       "    }\n",
       "</style>\n",
       "<table border=\"1\" class=\"dataframe\">\n",
       "  <thead>\n",
       "    <tr style=\"text-align: right;\">\n",
       "      <th></th>\n",
       "      <th>REGION</th>\n",
       "      <th>YEAR</th>\n",
       "      <th>PEOPLE HAVING HIV</th>\n",
       "    </tr>\n",
       "  </thead>\n",
       "  <tbody>\n",
       "    <tr>\n",
       "      <th>0</th>\n",
       "      <td>Global</td>\n",
       "      <td>2019</td>\n",
       "      <td>38 000 000</td>\n",
       "    </tr>\n",
       "    <tr>\n",
       "      <th>1</th>\n",
       "      <td>Global</td>\n",
       "      <td>2018</td>\n",
       "      <td>37 300 000</td>\n",
       "    </tr>\n",
       "    <tr>\n",
       "      <th>2</th>\n",
       "      <td>Global</td>\n",
       "      <td>2017</td>\n",
       "      <td>36 500 000</td>\n",
       "    </tr>\n",
       "    <tr>\n",
       "      <th>3</th>\n",
       "      <td>Global</td>\n",
       "      <td>2016</td>\n",
       "      <td>35 700 000</td>\n",
       "    </tr>\n",
       "    <tr>\n",
       "      <th>4</th>\n",
       "      <td>Global</td>\n",
       "      <td>2015</td>\n",
       "      <td>34 900 000</td>\n",
       "    </tr>\n",
       "  </tbody>\n",
       "</table>\n",
       "</div>"
      ],
      "text/plain": [
       "   REGION  YEAR PEOPLE HAVING HIV\n",
       "0  Global  2019       38 000 000 \n",
       "1  Global  2018        37 300 000\n",
       "2  Global  2017        36 500 000\n",
       "3  Global  2016        35 700 000\n",
       "4  Global  2015       34 900 000 "
      ]
     },
     "execution_count": 22,
     "metadata": {},
     "output_type": "execute_result"
    }
   ],
   "source": [
    "df3.head()"
   ]
  },
  {
   "cell_type": "code",
   "execution_count": 23,
   "metadata": {},
   "outputs": [],
   "source": [
    "df3['PEOPLE HAVING HIV']=df3['PEOPLE HAVING HIV'].str.replace(\" \",\"\")\n"
   ]
  },
  {
   "cell_type": "code",
   "execution_count": 24,
   "metadata": {},
   "outputs": [
    {
     "data": {
      "text/html": [
       "<div>\n",
       "<style scoped>\n",
       "    .dataframe tbody tr th:only-of-type {\n",
       "        vertical-align: middle;\n",
       "    }\n",
       "\n",
       "    .dataframe tbody tr th {\n",
       "        vertical-align: top;\n",
       "    }\n",
       "\n",
       "    .dataframe thead th {\n",
       "        text-align: right;\n",
       "    }\n",
       "</style>\n",
       "<table border=\"1\" class=\"dataframe\">\n",
       "  <thead>\n",
       "    <tr style=\"text-align: right;\">\n",
       "      <th></th>\n",
       "      <th>REGION</th>\n",
       "      <th>YEAR</th>\n",
       "      <th>PEOPLE HAVING HIV</th>\n",
       "    </tr>\n",
       "  </thead>\n",
       "  <tbody>\n",
       "    <tr>\n",
       "      <th>0</th>\n",
       "      <td>Global</td>\n",
       "      <td>2019</td>\n",
       "      <td>38000000</td>\n",
       "    </tr>\n",
       "    <tr>\n",
       "      <th>1</th>\n",
       "      <td>Global</td>\n",
       "      <td>2018</td>\n",
       "      <td>37300000</td>\n",
       "    </tr>\n",
       "    <tr>\n",
       "      <th>2</th>\n",
       "      <td>Global</td>\n",
       "      <td>2017</td>\n",
       "      <td>36500000</td>\n",
       "    </tr>\n",
       "    <tr>\n",
       "      <th>3</th>\n",
       "      <td>Global</td>\n",
       "      <td>2016</td>\n",
       "      <td>35700000</td>\n",
       "    </tr>\n",
       "    <tr>\n",
       "      <th>4</th>\n",
       "      <td>Global</td>\n",
       "      <td>2015</td>\n",
       "      <td>34900000</td>\n",
       "    </tr>\n",
       "  </tbody>\n",
       "</table>\n",
       "</div>"
      ],
      "text/plain": [
       "   REGION  YEAR PEOPLE HAVING HIV\n",
       "0  Global  2019          38000000\n",
       "1  Global  2018          37300000\n",
       "2  Global  2017          36500000\n",
       "3  Global  2016          35700000\n",
       "4  Global  2015          34900000"
      ]
     },
     "execution_count": 24,
     "metadata": {},
     "output_type": "execute_result"
    }
   ],
   "source": [
    "df3.head()"
   ]
  },
  {
   "cell_type": "code",
   "execution_count": 26,
   "metadata": {},
   "outputs": [
    {
     "data": {
      "text/plain": [
       "REGION               object\n",
       "YEAR                  int64\n",
       "PEOPLE HAVING HIV    object\n",
       "dtype: object"
      ]
     },
     "execution_count": 26,
     "metadata": {},
     "output_type": "execute_result"
    }
   ],
   "source": [
    "df3.dtypes"
   ]
  },
  {
   "cell_type": "code",
   "execution_count": 27,
   "metadata": {},
   "outputs": [],
   "source": [
    "df3['PEOPLE HAVING HIV']=df3['PEOPLE HAVING HIV'].astype(int)\n"
   ]
  },
  {
   "cell_type": "code",
   "execution_count": 28,
   "metadata": {},
   "outputs": [
    {
     "data": {
      "text/plain": [
       "REGION               object\n",
       "YEAR                  int64\n",
       "PEOPLE HAVING HIV     int32\n",
       "dtype: object"
      ]
     },
     "execution_count": 28,
     "metadata": {},
     "output_type": "execute_result"
    }
   ],
   "source": [
    "df3.dtypes"
   ]
  },
  {
   "cell_type": "code",
   "execution_count": 29,
   "metadata": {},
   "outputs": [],
   "source": [
    "#storing back the datasets\n",
    "\n",
    "df1.to_csv('C:/Users/Suraj Gupta/Downloads/HIV sheet1.csv')\n",
    "df2.to_csv('C:/Users/Suraj Gupta/Downloads/HIV sheet2.csv')\n",
    "df3.to_csv('C:/Users/Suraj Gupta/Downloads/HIV sheet3.csv')"
   ]
  },
  {
   "cell_type": "code",
   "execution_count": null,
   "metadata": {},
   "outputs": [],
   "source": []
  },
  {
   "cell_type": "code",
   "execution_count": null,
   "metadata": {},
   "outputs": [],
   "source": []
  },
  {
   "cell_type": "code",
   "execution_count": null,
   "metadata": {},
   "outputs": [],
   "source": []
  }
 ],
 "metadata": {
  "kernelspec": {
   "display_name": "Python 3",
   "language": "python",
   "name": "python3"
  },
  "language_info": {
   "codemirror_mode": {
    "name": "ipython",
    "version": 3
   },
   "file_extension": ".py",
   "mimetype": "text/x-python",
   "name": "python",
   "nbconvert_exporter": "python",
   "pygments_lexer": "ipython3",
   "version": "3.8.0"
  }
 },
 "nbformat": 4,
 "nbformat_minor": 4
}
